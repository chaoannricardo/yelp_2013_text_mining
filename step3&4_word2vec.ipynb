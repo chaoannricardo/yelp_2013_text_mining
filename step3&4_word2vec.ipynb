{
 "cells": [
  {
   "cell_type": "markdown",
   "metadata": {},
   "source": [
    "# 利用word2vec套件建立詞向量"
   ]
  },
  {
   "cell_type": "code",
   "execution_count": null,
   "metadata": {},
   "outputs": [],
   "source": [
    "import gensim\n",
    "from gensim.models import word2vec\n",
    "#Python 內建的 logging 模組可取代 print() 的除錯功能\n",
    "import logging\n",
    "logging.basicConfig(format = '%(asctime)s : %(levelname)s : %(message)s', level = logging.INFO)\n"
   ]
  },
  {
   "cell_type": "markdown",
   "metadata": {},
   "source": [
    "## Word2vec 參數"
   ]
  },
  {
   "cell_type": "markdown",
   "metadata": {},
   "source": [
    "* sentences：語料庫\n",
    "* size：特徵向量的維度\n",
    "* alpha：學習速率\n",
    "* window：如同 n-gram 中前後要取幾個字詞\n",
    "* min_count：字詞出現少於這個閥值則捨棄\n",
    "* max_vocab_size：RAM的限制，如超過上限則捨棄不頻繁使用的， None為不限制\n",
    "* sample：高頻字詞的取樣率\n",
    "* seed：亂數產生器，與初始化向量有關係\n",
    "* workers：多執行緒的數量\n",
    "* sg： 0 為 CBOW ； 1 為 skip-gram\n",
    "* hs： 0 為 negative sampling ； 1 為 hierarchica softmax\n",
    "* iter：迭代次數\n",
    "* batch_words：每個 batch的字詞量"
   ]
  },
  {
   "cell_type": "code",
   "execution_count": null,
   "metadata": {},
   "outputs": [],
   "source": [
    "#read corpus(語料庫) & 建立 model\n",
    "sentences = word2vec.Text8Corpus('text8')\n",
    "model = word2vec.Word2Vec(sentences, sg=1, size=200,  window=5,  min_count=5,  negative=3, sample=0.001, hs=1, workers=4)\n",
    "#save model and test\n",
    "model.save('text82.model')\n",
    "print(model['man'])"
   ]
  },
  {
   "cell_type": "code",
   "execution_count": null,
   "metadata": {},
   "outputs": [],
   "source": [
    "#第二次讀取corpus的話，直接從這開始\n",
    "import gensim\n",
    "from gensim.models import word2vec\n",
    "import logging\n",
    "logging.basicConfig(format = '%(asctime)s : %(levelnames)s : %(message)s', level = logging.INFO)\n",
    "#read model\n",
    "model = word2vec.Word2Vec.load('text82.model')"
   ]
  },
  {
   "cell_type": "code",
   "execution_count": null,
   "metadata": {},
   "outputs": [],
   "source": [
    "import numpy as np\n",
    "import pandas as pd\n",
    "#讀入情緒字庫中的 positive_word\n",
    "positive_word = pd.read_csv('positive_words.csv', encoding = 'ISO-8859-1')\n",
    "words = positive_word['words']"
   ]
  },
  {
   "cell_type": "code",
   "execution_count": null,
   "metadata": {},
   "outputs": [],
   "source": [
    "#create a new dict\n",
    "positive_dict = {}\n",
    "#把 positive_word中有出現在 corpus裡的 word 進行詞的向量化，並加入positive_dict中\n",
    "for word in words:\n",
    "    if word in model:\n",
    "        positive_dict.update({word : model[word]})\n",
    "        #print(word+\":\")\n",
    "        #print(model[word])\n",
    "    else:\n",
    "        continue"
   ]
  },
  {
   "cell_type": "code",
   "execution_count": null,
   "metadata": {},
   "outputs": [],
   "source": [
    "# dict to dataframe, orient = 'index'用來轉置\n",
    "positiveword = pd.DataFrame.from_dict(positive_dict, orient = 'index')"
   ]
  },
  {
   "cell_type": "code",
   "execution_count": null,
   "metadata": {},
   "outputs": [],
   "source": [
    "print(positiveword.shape)"
   ]
  },
  {
   "cell_type": "code",
   "execution_count": null,
   "metadata": {},
   "outputs": [],
   "source": [
    "#事先標記好positive_word的情緒得分為 +1\n",
    "idx = positiveword.index\n",
    "np_one = np.ones((1, 1433), dtype = int)\n",
    "df_one = pd.DataFrame(np_one).T\n",
    "df_one.index = idx\n",
    "df_one.columns = ['sentiment']\n",
    "positiveword = pd.concat([positiveword, df_one], axis = 1)"
   ]
  },
  {
   "cell_type": "code",
   "execution_count": null,
   "metadata": {},
   "outputs": [],
   "source": [
    "#讀入情緒字庫中的 negative_word\n",
    "negative_word = pd.read_csv('negative_words.csv', encoding = 'ISO-8859-1')\n",
    "words = negative_word['words']"
   ]
  },
  {
   "cell_type": "code",
   "execution_count": null,
   "metadata": {},
   "outputs": [],
   "source": [
    "# create a new dict\n",
    "negative_dict = {}\n",
    "#把 negative_word中有出現在 corpus裡的 word 進行詞的向量化，並加入negative_dict中\n",
    "for word in words:\n",
    "    if word in model:\n",
    "        negative_dict.update({word : model[word]})\n",
    "        #print(word + \":\")\n",
    "        #print(model[word])\n",
    "    else:\n",
    "        continue"
   ]
  },
  {
   "cell_type": "code",
   "execution_count": null,
   "metadata": {},
   "outputs": [],
   "source": [
    "# dict to dataframe, orient = 'index'用來轉置\n",
    "negativeword = pd.DataFrame.from_dict(negative_dict, orient = 'index')"
   ]
  },
  {
   "cell_type": "code",
   "execution_count": null,
   "metadata": {},
   "outputs": [],
   "source": [
    "print(negativeword.shape)"
   ]
  },
  {
   "cell_type": "code",
   "execution_count": null,
   "metadata": {},
   "outputs": [],
   "source": [
    "#事先標記好negative_word的情緒得分為 -1\n",
    "idx1 = negativeword.index\n",
    "np_minusone = np.full((1, 3029), -1)\n",
    "df_minusone = pd.DataFrame(np_minusone).T\n",
    "df_minusone.index = idx1\n",
    "df_minusone.columns = ['sentiment']\n",
    "negativeword = pd.concat([negativeword, df_minusone], axis = 1)"
   ]
  },
  {
   "cell_type": "code",
   "execution_count": null,
   "metadata": {},
   "outputs": [],
   "source": [
    "#把 positiveword 和 negativeword 合併之後當成training data\n",
    "training_data = pd.concat([positiveword, negativeword], axis = 0)\n",
    "#training_data"
   ]
  },
  {
   "cell_type": "code",
   "execution_count": null,
   "metadata": {},
   "outputs": [],
   "source": [
    "#最後一欄為y，其餘欄位為x\n",
    "train_x = training_data.iloc[:, :-1]\n",
    "train_y = training_data.iloc[:, -1]"
   ]
  },
  {
   "cell_type": "code",
   "execution_count": null,
   "metadata": {},
   "outputs": [],
   "source": [
    "#讀入 step2 做出來的 relation_word.csv，並且取出 relationword這個欄位\n",
    "relation_word = pd.read_csv('relation_word.csv',encoding = \"ISO-8859-1\")\n",
    "words = relation_word['relationword']"
   ]
  },
  {
   "cell_type": "markdown",
   "metadata": {},
   "source": [
    "## words 的 data type 為 Series"
   ]
  },
  {
   "cell_type": "markdown",
   "metadata": {},
   "source": [
    "* Series.str.lower(self): Convert strings in the Series/Index to lowercase"
   ]
  },
  {
   "cell_type": "markdown",
   "metadata": {},
   "source": [
    "* Series.values: Return Series as ndarray or ndarray-like depending on the dtype."
   ]
  },
  {
   "cell_type": "code",
   "execution_count": null,
   "metadata": {},
   "outputs": [],
   "source": [
    "#找出不重複的 relationword\n",
    "unique = set(list(words.str.lower().values))\n",
    "len(unique)"
   ]
  },
  {
   "cell_type": "code",
   "execution_count": null,
   "metadata": {},
   "outputs": [],
   "source": [
    "#create a new dict\n",
    "relation_dict = {}\n",
    "#把 unique 中有出現在 corpus裡的 word 進行詞的向量化，並加入relation_dict中\n",
    "for word in unique:\n",
    "    if word in model:\n",
    "        relation_dict.update({word : model[word]})\n",
    "    else:\n",
    "        continue"
   ]
  },
  {
   "cell_type": "code",
   "execution_count": null,
   "metadata": {},
   "outputs": [],
   "source": [
    "# dict to dataframe, orient = 'index' 用來轉置\n",
    "df_relationword = pd.DataFrame.from_dict(relation_dict, orient = 'index')\n",
    "len(df_relationword)"
   ]
  },
  {
   "cell_type": "code",
   "execution_count": null,
   "metadata": {},
   "outputs": [],
   "source": [
    "#把 df_relationword當作測試資料集\n",
    "test_x = df_relationword\n",
    "#idx2 作為 test_x的index\n",
    "idx2 = test_x.index"
   ]
  },
  {
   "cell_type": "code",
   "execution_count": null,
   "metadata": {},
   "outputs": [],
   "source": [
    "#利用 randomforest 預測 text_x的情緒得分為 +1 或 -1\n",
    "from sklearn.ensemble import RandomForestClassifier\n",
    "#建一百棵樹\n",
    "forest = RandomForestClassifier(n_estimators = 100)\n",
    "model = forest.fit(train_x, train_y)\n",
    "pred_y = model.predict(test_x)"
   ]
  },
  {
   "cell_type": "code",
   "execution_count": null,
   "metadata": {},
   "outputs": [],
   "source": [
    "pred_y = pd.DataFrame(pred_y)\n",
    "pred_y.columns = ['sentiment']\n",
    "pred_y.index = idx2"
   ]
  },
  {
   "cell_type": "code",
   "execution_count": null,
   "metadata": {},
   "outputs": [],
   "source": [
    "#把 test_x 和 pred_y合併，並匯出成 sentiment_pred.csv\n",
    "sentiment_pred = pd.concat([test_x, pred_y], axis = 1)\n",
    "sentiment_pred.to_csv('sentiment_pred.csv', encoding = 'utf8')"
   ]
  },
  {
   "cell_type": "markdown",
   "metadata": {},
   "source": [
    "---"
   ]
  },
  {
   "cell_type": "markdown",
   "metadata": {},
   "source": [
    "## neg_word 的情緒得分需要額外校正"
   ]
  },
  {
   "cell_type": "code",
   "execution_count": null,
   "metadata": {},
   "outputs": [],
   "source": [
    "#讀入 step2 做出來的 relation_neg_word.csv，並且取出 relationword這個欄位\n",
    "relation_word_neg = pd.read_csv('relation_neg_word.csv',encoding = \"ISO-8859-1\")\n",
    "neg_words = relation_word_neg['relationword']"
   ]
  },
  {
   "cell_type": "code",
   "execution_count": null,
   "metadata": {},
   "outputs": [],
   "source": [
    "#找出不重複的 neg_words\n",
    "neg_unique = set(list(neg_words.str.lower().values))\n",
    "len(neg_unique) "
   ]
  },
  {
   "cell_type": "code",
   "execution_count": null,
   "metadata": {},
   "outputs": [],
   "source": [
    "#create a new dict\n",
    "neg_relation_dict = {}\n",
    "#把 neg_unique 中有出現在 corpus裡的 word 進行詞的向量化，並加入neg_relation_dict中\n",
    "for word in neg_unique:\n",
    "    if word in model:\n",
    "        neg_relation_dict.update({word:model[word]})\n",
    "    else:\n",
    "        continue     "
   ]
  },
  {
   "cell_type": "code",
   "execution_count": null,
   "metadata": {},
   "outputs": [],
   "source": [
    "# dict to dataframe, orient = 'index' 用來轉置\n",
    "df_relationword_neg = pd.DataFrame.from_dict(neg_relation_dict, orient='index')\n",
    "len(df_relationword_neg)"
   ]
  },
  {
   "cell_type": "code",
   "execution_count": null,
   "metadata": {},
   "outputs": [],
   "source": [
    "#把 df_relationword_neg當作測試資料集\n",
    "test_x = df_relationword_neg\n",
    "#idx2 作為 test_x的index\n",
    "idx2 = test_x.index"
   ]
  },
  {
   "cell_type": "code",
   "execution_count": null,
   "metadata": {},
   "outputs": [],
   "source": [
    "#利用 randomforest 預測 text_x的情緒得分為 +1 或 -1\n",
    "from sklearn.ensemble import RandomForestClassifier\n",
    "#建一百棵樹\n",
    "forest = RandomForestClassifier(n_estimators = 100)\n",
    "model = forest.fit(train_x, train_y)\n",
    "pred_y = model.predict(test_x)"
   ]
  },
  {
   "cell_type": "code",
   "execution_count": null,
   "metadata": {},
   "outputs": [],
   "source": [
    "pred_y = pd.DataFrame(pred_y)\n",
    "pred_y.columns = ['sentiment']\n",
    "pred_y.index = idx2"
   ]
  },
  {
   "cell_type": "code",
   "execution_count": null,
   "metadata": {},
   "outputs": [],
   "source": [
    "#把 test_x 和 pred_y合併，並匯出成 sentiment_neg_pred.csv\n",
    "sentiment_pred = pd.concat([test_x, pred_y], axis = 1)\n",
    "sentiment_pred.to_csv('sentiment_neg_pred.csv', encoding = 'utf8')"
   ]
  },
  {
   "cell_type": "code",
   "execution_count": null,
   "metadata": {},
   "outputs": [],
   "source": []
  }
 ],
 "metadata": {
  "kernelspec": {
   "display_name": "Python 3",
   "language": "python",
   "name": "python3"
  },
  "language_info": {
   "codemirror_mode": {
    "name": "ipython",
    "version": 3
   },
   "file_extension": ".py",
   "mimetype": "text/x-python",
   "name": "python",
   "nbconvert_exporter": "python",
   "pygments_lexer": "ipython3",
   "version": "3.7.3"
  }
 },
 "nbformat": 4,
 "nbformat_minor": 2
}
