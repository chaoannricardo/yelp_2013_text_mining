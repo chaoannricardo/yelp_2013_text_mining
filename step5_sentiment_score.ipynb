{
 "cells": [
  {
   "cell_type": "markdown",
   "metadata": {},
   "source": [
    "# 首先計算除了neg_word以外的情緒得分"
   ]
  },
  {
   "cell_type": "code",
   "execution_count": null,
   "metadata": {},
   "outputs": [],
   "source": [
    "import numpy as np\n",
    "import pandas as pd"
   ]
  },
  {
   "cell_type": "code",
   "execution_count": null,
   "metadata": {},
   "outputs": [],
   "source": [
    "#read sentiment_pred.csv\n",
    "sentiment_pred = pd.read_csv('sentiment_pred.csv', encoding = 'ISO-8859-1')"
   ]
  },
  {
   "cell_type": "code",
   "execution_count": null,
   "metadata": {},
   "outputs": [],
   "source": [
    "#rename\n",
    "df = sentiment_pred.rename(columns = {'Unnamed: 0' : 'relationword'})"
   ]
  },
  {
   "cell_type": "code",
   "execution_count": null,
   "metadata": {},
   "outputs": [],
   "source": [
    "#get required columns\n",
    "df_word = df.iloc[:, 0]\n",
    "df_sentiment = df.iloc[:, -1]\n",
    "#rename\n",
    "df_sentiment.columns = ['sentiment']\n",
    "#concat\n",
    "df = pd.concat([df_word, df_sentiment], axis = 1)"
   ]
  },
  {
   "cell_type": "code",
   "execution_count": null,
   "metadata": {},
   "outputs": [],
   "source": [
    "#讀入 step2 做出來的 relation_word.csv\n",
    "relation_word = pd.read_csv('relation_word.csv', encoding='ISO-8859-1')"
   ]
  },
  {
   "cell_type": "code",
   "execution_count": null,
   "metadata": {},
   "outputs": [],
   "source": [
    "#五大特質個別的 target_word list\n",
    "food_word_list = ['lunch','delicious','menu','fresh','breakfast','drink','drinks','tasty','dinner','selection','meal','taste','flavor','dish','food']\n",
    "atmosphere_word_list = ['atmosphere','happy','fun','friendly']\n",
    "service_word_list = ['order','ordered','staff','service','wait','server','servered','quality']\n",
    "price_word_list = ['price','prices']\n",
    "place_word_list = ['place','places','location','area']"
   ]
  },
  {
   "cell_type": "code",
   "execution_count": null,
   "metadata": {},
   "outputs": [],
   "source": [
    "#create a new list\n",
    "targetword2 = []\n",
    "#如果relation_word中 targetword欄位裡的 word，出現在五大特質 target_word list中，將其加入至 targetword2中\n",
    "targetword2 = []\n",
    "for word in relation_word['targetword']:\n",
    "    if word in food_word_list:\n",
    "        targetword2.append('food')\n",
    "    elif word in atmosphere_word_list:\n",
    "        targetword2.append('atmosphere')\n",
    "    elif word in service_word_list:\n",
    "        targetword2.append('service')\n",
    "    elif word in price_word_list:\n",
    "        targetword2.append('price')\n",
    "    elif word in place_word_list:\n",
    "        targetword2.append('place')\n",
    "    \n",
    "#len(targetword2)"
   ]
  },
  {
   "cell_type": "code",
   "execution_count": null,
   "metadata": {},
   "outputs": [],
   "source": [
    "#將 targetword2轉成 dataframe後，再將其新增成 relation_word的新欄位\n",
    "relation_word['targetword'] = pd.DataFrame(targetword2, columns = ['targetword'])"
   ]
  },
  {
   "cell_type": "code",
   "execution_count": null,
   "metadata": {},
   "outputs": [],
   "source": [
    "#將 relationword 中的 business_id和 targetword欄位合併再一起，並且新增成 relation_word的新欄位\n",
    "relation_word['id_targetword'] = relation_word['business_id'] + '*' + relation_word['targetword']"
   ]
  },
  {
   "cell_type": "code",
   "execution_count": null,
   "metadata": {},
   "outputs": [],
   "source": [
    "#get required columns\n",
    "relation_word2 = pd.concat([relation_word.iloc[:, -1], relation_word.iloc[:, -2]], axis = 1)"
   ]
  },
  {
   "cell_type": "code",
   "execution_count": null,
   "metadata": {},
   "outputs": [],
   "source": [
    "#outer join \n",
    "merge_df = pd.merge(relation_word2, df, how = 'outer')\n",
    "#fillna with 0\n",
    "merge_df = merge_df.fillna(0)\n",
    "merge_df = merge_df.iloc[0 : 193677, :]\n",
    "#merge_df"
   ]
  },
  {
   "cell_type": "code",
   "execution_count": null,
   "metadata": {},
   "outputs": [],
   "source": [
    "#group by with column id_targetword\n",
    "re = merge_df.groupby(['id_targetword'])\n",
    "#test\n",
    "re.get_group('EJUaeaUcedPJd769_nG1pA*food')['sentiment'].sum()"
   ]
  },
  {
   "cell_type": "code",
   "execution_count": null,
   "metadata": {},
   "outputs": [],
   "source": [
    "#create two new lists\n",
    "business_id = []\n",
    "final_output = []"
   ]
  },
  {
   "cell_type": "code",
   "execution_count": null,
   "metadata": {},
   "outputs": [],
   "source": [
    "#把 business_id 和計算出的各家店在五大特質的情緒得分分別 append進去list當中\n",
    "for business in merge_df['id_targetword']:\n",
    "    business_id.append(business)\n",
    "    score = re.get_group(business)['sentiment'].sum()\n",
    "    final_output.append(score)"
   ]
  },
  {
   "cell_type": "code",
   "execution_count": null,
   "metadata": {},
   "outputs": [],
   "source": [
    "#list to dataframe\n",
    "df_business_id = pd.DataFrame(business_id, columns = ['id_targetword'])\n",
    "df_final_output = pd.DataFrame(final_output, columns = ['score'])"
   ]
  },
  {
   "cell_type": "code",
   "execution_count": null,
   "metadata": {},
   "outputs": [],
   "source": [
    "#concat\n",
    "df_output = pd.concat([df_business_id, df_final_output], axis = 1)\n",
    "#drop duplicates\n",
    "df_output = df_output.drop_duplicates()"
   ]
  },
  {
   "cell_type": "markdown",
   "metadata": {},
   "source": [
    "* Series.str.split(self, pat=None, n=-1, expand=False\n",
    "    - Split strings around given separator/delimiter.\n",
    "    - Splits the string in the Series/Index from the beginning, at the specified delimiter string. Equivalent to str.split()."
   ]
  },
  {
   "cell_type": "markdown",
   "metadata": {},
   "source": [
    "#### parameters\n",
    "* pat : str, optional\n",
    "    - String or regular expression to split on. If not specified, split on whitespace.\n",
    "\n",
    "* n : int, default -1 (all)\n",
    "    - Limit number of splits in output. None, 0 and -1 will be interpreted as return all splits.\n",
    "\n",
    "* expand : bool, default False\n",
    "    - Expand the splitted strings into separate columns."
   ]
  },
  {
   "cell_type": "code",
   "execution_count": null,
   "metadata": {},
   "outputs": [],
   "source": [
    "#把 id_targetword中的 business_id 和 targetword分開\n",
    "df_1 = df_output['id_targetword'].str.split('*', expand = True)\n",
    "#rename\n",
    "df_1.columns = ['business_id', 'targetword']"
   ]
  },
  {
   "cell_type": "code",
   "execution_count": null,
   "metadata": {},
   "outputs": [],
   "source": [
    "#合併 df_1 以及情緒得分欄位\n",
    "df_output2 = pd.concat([df_1, df_output['score']], axis = 1)\n",
    "#df_output2.head(5)"
   ]
  },
  {
   "cell_type": "code",
   "execution_count": null,
   "metadata": {},
   "outputs": [],
   "source": [
    "#series to list\n",
    "list_output_id = df_output2['business_id'].to_list()\n",
    "list_output_target = df_output2['targetword'].to_list()\n",
    "list_output_score = df_output2['score'].to_list()"
   ]
  },
  {
   "cell_type": "code",
   "execution_count": null,
   "metadata": {},
   "outputs": [],
   "source": [
    "#zip\n",
    "list_word_score = zip(list_output_target, list_output_score)\n",
    "df_output3 = list(zip(list_output_id, list_word_score))"
   ]
  },
  {
   "cell_type": "code",
   "execution_count": null,
   "metadata": {},
   "outputs": [],
   "source": [
    "#取出不重複的 business_id\n",
    "businessid_df = df_output2['business_id']\n",
    "noduplicate = businessid_df.drop_duplicates()"
   ]
  },
  {
   "cell_type": "markdown",
   "metadata": {},
   "source": [
    "## 分別把各家餐廳在五大特質的情緒得分做成dataframe"
   ]
  },
  {
   "cell_type": "code",
   "execution_count": null,
   "metadata": {},
   "outputs": [],
   "source": [
    "atmosphere = []\n",
    "atmosphere_word_list = ['atmosphere','happy','fun','friendly']\n",
    "for i in range(len(df_output3)):\n",
    "    if df_output3[i][1][0] in atmosphere_word_list:\n",
    "        atmosphere.append(int(df_output3[i][1][1]))\n",
    "    else:\n",
    "        atmosphere.append(0)\n",
    "\n",
    "df_atmosphere = pd.DataFrame(atmosphere)\n",
    "df_atmosphere.columns=['atmosphere']\n",
    "\n",
    "\n",
    "idx = businessid_df.index\n",
    "df_atmosphere.index = idx\n",
    "\n",
    "atmosphere_df = pd.concat([businessid_df, df_atmosphere], axis=1)"
   ]
  },
  {
   "cell_type": "code",
   "execution_count": null,
   "metadata": {},
   "outputs": [],
   "source": [
    "food = []\n",
    "food_word_list = ['lunch','delicious','menu','fresh','breakfast','drink','drinks','tasty','dinner','selection','meal','taste','flavor','dish','food']\n",
    "for i in range(len(df_output3)):\n",
    "    if df_output3[i][1][0] in food_word_list:\n",
    "        food.append(int(df_output3[i][1][1]))\n",
    "    else:\n",
    "        food.append(0)\n",
    "\n",
    "df_food = pd.DataFrame(food)\n",
    "df_food.columns=['food']\n",
    "\n",
    "df_food.index = idx\n",
    "\n",
    "food_df = pd.concat([businessid_df, df_food], axis=1)"
   ]
  },
  {
   "cell_type": "code",
   "execution_count": null,
   "metadata": {},
   "outputs": [],
   "source": [
    "service = []\n",
    "\n",
    "service_word_list = ['order','ordered','staff','service','wait','server','servered','quality']\n",
    "for i in range(len(df_output3)):\n",
    "    if df_output3[i][1][0] in service_word_list:\n",
    "        service.append(int(df_output3[i][1][1]))\n",
    "    else:\n",
    "        service.append(0)\n",
    "\n",
    "df_service = pd.DataFrame(service)\n",
    "df_service.columns=['service']\n",
    "df_service.index = idx\n",
    "\n",
    "service_df = pd.concat([businessid_df, df_service], axis=1)"
   ]
  },
  {
   "cell_type": "code",
   "execution_count": null,
   "metadata": {},
   "outputs": [],
   "source": [
    "price = []\n",
    "\n",
    "price_word_list = ['price','prices']\n",
    "for i in range(len(df_output3)):\n",
    "    if df_output3[i][1][0] in price_word_list:\n",
    "        price.append(int(df_output3[i][1][1]))\n",
    "    else:\n",
    "        price.append(0)\n",
    "        \n",
    "df_price = pd.DataFrame(price)\n",
    "df_price.columns=['price']\n",
    "\n",
    "df_price.index = idx\n",
    "\n",
    "price_df = pd.concat([businessid_df, df_price], axis=1)"
   ]
  },
  {
   "cell_type": "code",
   "execution_count": null,
   "metadata": {},
   "outputs": [],
   "source": [
    "place = []\n",
    "\n",
    "place_word_list = ['place','places','location','area']\n",
    "for i in range(len(df_output3)):\n",
    "    if df_output3[i][1][0] in place_word_list:\n",
    "        place.append(int(df_output3[i][1][1]))\n",
    "    else:\n",
    "        place.append(0)\n",
    "\n",
    "df_place = pd.DataFrame(place)\n",
    "df_place.columns=['place']\n",
    "\n",
    "df_place.index = idx\n",
    "\n",
    "place_df = pd.concat([businessid_df, df_place], axis=1)"
   ]
  },
  {
   "cell_type": "code",
   "execution_count": null,
   "metadata": {},
   "outputs": [],
   "source": [
    "#把這五大特質合併在一起\n",
    "final = pd.concat([atmosphere_df, food_df['food'], service_df['service'], price_df['price'], place_df['place']], axis = 1)"
   ]
  },
  {
   "cell_type": "code",
   "execution_count": null,
   "metadata": {},
   "outputs": [],
   "source": [
    "#group by with business_id\n",
    "fi = final.groupby('business_id')\n",
    "#create a new dict\n",
    "final_output = {}\n",
    "for i in final['business_id']:\n",
    "    a_score = list(fi.get_group(i).sum())[1:]\n",
    "    final_output.update({i:a_score})\n",
    "\n",
    "#test    \n",
    "#fi.get_group('9yKzy9PApeiPPOUJEtnvkg').sum()    "
   ]
  },
  {
   "cell_type": "code",
   "execution_count": null,
   "metadata": {},
   "outputs": [],
   "source": [
    "#dict to dataframe\n",
    "final_T = pd.DataFrame.from_dict(final_output, orient='index', columns=['atmosphere','food','service','price','place'])"
   ]
  },
  {
   "cell_type": "code",
   "execution_count": null,
   "metadata": {},
   "outputs": [],
   "source": [
    "#series to dataframe\n",
    "noduplicate = pd.DataFrame(noduplicate, columns = ['business_id'])"
   ]
  },
  {
   "cell_type": "code",
   "execution_count": null,
   "metadata": {},
   "outputs": [],
   "source": [
    "#concat\n",
    "id2x = noduplicate.index\n",
    "final_T.index = id2x\n",
    "final_score = pd.concat([noduplicate, final_T], axis = 1)"
   ]
  },
  {
   "cell_type": "code",
   "execution_count": null,
   "metadata": {},
   "outputs": [],
   "source": [
    "#read total_id.csv\n",
    "total_id = pd.read_csv('total_id.csv',encoding='ISO-8859-1')\n",
    "total_business_id = total_id['business_id']"
   ]
  },
  {
   "cell_type": "code",
   "execution_count": null,
   "metadata": {},
   "outputs": [],
   "source": [
    "#merge and fillna with 0\n",
    "final_all = pd.merge(total_business_id, final_score, how='outer')\n",
    "final_all = final_all.fillna(0)\n",
    "#final_all"
   ]
  },
  {
   "cell_type": "markdown",
   "metadata": {},
   "source": [
    "# neg_word"
   ]
  },
  {
   "cell_type": "code",
   "execution_count": null,
   "metadata": {},
   "outputs": [],
   "source": [
    "#read sentiment_neg_pred.csv\n",
    "sentiment_pred = pd.read_csv('sentiment_neg_pred.csv', encoding='ISO-8859-1') "
   ]
  },
  {
   "cell_type": "code",
   "execution_count": null,
   "metadata": {},
   "outputs": [],
   "source": [
    "#rename\n",
    "df = sentiment_pred.rename(columns={'Unnamed: 0': 'relationword'})"
   ]
  },
  {
   "cell_type": "code",
   "execution_count": null,
   "metadata": {},
   "outputs": [],
   "source": [
    "#get required columns\n",
    "df_word = df.iloc[:, 0]\n",
    "df_sentiment = df.iloc[:, -1]\n",
    "#rename\n",
    "df_sentiment.columns = ['sentiment']\n",
    "#concat\n",
    "df = pd.concat([df_word, df_sentiment], axis = 1)"
   ]
  },
  {
   "cell_type": "code",
   "execution_count": null,
   "metadata": {},
   "outputs": [],
   "source": [
    "#讀入 step2 做出來的 relation_neg_word.csv\n",
    "relation_word = pd.read_csv('relation_neg_word.csv', encoding='ISO-8859-1')"
   ]
  },
  {
   "cell_type": "code",
   "execution_count": null,
   "metadata": {},
   "outputs": [],
   "source": [
    "#五大特質個別的 target_word list\n",
    "food_word_list = ['lunch','delicious','menu','fresh','breakfast','drink','drinks','tasty','dinner','selection','meal','taste','flavor','dish','food']\n",
    "atmosphere_word_list = ['atmosphere','happy','fun','friendly']\n",
    "service_word_list = ['order','ordered','staff','service','wait','server','servered','quality']\n",
    "price_word_list = ['price','prices']\n",
    "place_word_list = ['place','places','location','area']"
   ]
  },
  {
   "cell_type": "code",
   "execution_count": null,
   "metadata": {},
   "outputs": [],
   "source": [
    "#create a new list\n",
    "targetword2 = []\n",
    "#如果relation_word中 targetword欄位裡的 word，出現在五大特質 target_word list中，將其加入至 targetword2中\n",
    "targetword2 = []\n",
    "for word in relation_word['targetword']:\n",
    "    if word in food_word_list:\n",
    "        targetword2.append('food')\n",
    "    elif word in atmosphere_word_list:\n",
    "        targetword2.append('atmosphere')\n",
    "    elif word in service_word_list:\n",
    "        targetword2.append('service')\n",
    "    elif word in price_word_list:\n",
    "        targetword2.append('price')\n",
    "    elif word in place_word_list:\n",
    "        targetword2.append('place')\n",
    "    \n",
    "#len(targetword2)"
   ]
  },
  {
   "cell_type": "code",
   "execution_count": null,
   "metadata": {},
   "outputs": [],
   "source": [
    "#將 relation_word 中的 targetword欄位轉成 dataframe後取出\n",
    "targetwordnew = pd.DataFrame(list(relation_word['targetword']), columns=['relationword'])\n",
    "#rename\n",
    "relation_word = relation_word.rename(columns={'relationword': 'neg_word'})"
   ]
  },
  {
   "cell_type": "code",
   "execution_count": null,
   "metadata": {},
   "outputs": [],
   "source": [
    "#將 targetword2轉成 dataframe後，再將其新增成 relation_word的新欄位\n",
    "relation_word['targetword'] = pd.DataFrame(targetword2, columns=['targetword'])\n",
    "#去除 relation_word中的 NA值\n",
    "relation_word = relation_word.dropna()"
   ]
  },
  {
   "cell_type": "code",
   "execution_count": null,
   "metadata": {},
   "outputs": [],
   "source": [
    "#合併 relation_word和 targetwordnew\n",
    "relation_word2 = pd.concat([relation_word, targetwordnew],axis=1)\n",
    "#去除 relation_word2中的 NA值\n",
    "relation_word2 = relation_word2.dropna()"
   ]
  },
  {
   "cell_type": "code",
   "execution_count": null,
   "metadata": {},
   "outputs": [],
   "source": [
    "#將 relation_word2 中的 business_id和 targetword欄位合併再一起，並且新增成 relation_word2的新欄位\n",
    "relation_word2['id_targetword'] = relation_word2['business_id'] + '*' + relation_word2['targetword']\n",
    "#relation_word2"
   ]
  },
  {
   "cell_type": "code",
   "execution_count": null,
   "metadata": {},
   "outputs": [],
   "source": [
    "#get required columns and dropna\n",
    "relation_word3 = pd.concat([relation_word2.iloc[:,-1:], relation_word2.iloc[:,-3:-2], relation_word2.iloc[:,-2:-1]],axis=1)\n",
    "relation_word3 = relation_word3.dropna()\n",
    "#relation_word3"
   ]
  },
  {
   "cell_type": "code",
   "execution_count": null,
   "metadata": {},
   "outputs": [],
   "source": [
    "# outer join \n",
    "merge_df = pd.merge(relation_word3, df, how='outer')\n",
    "# dropna\n",
    "merge_df = merge_df.dropna()\n",
    "merge_df"
   ]
  },
  {
   "cell_type": "code",
   "execution_count": null,
   "metadata": {},
   "outputs": [],
   "source": [
    "#group by with id_targetword\n",
    "re = merge_df.groupby(['id_targetword'])"
   ]
  },
  {
   "cell_type": "code",
   "execution_count": null,
   "metadata": {},
   "outputs": [],
   "source": [
    "#create two new lists\n",
    "business_id = []\n",
    "final_output = []"
   ]
  },
  {
   "cell_type": "code",
   "execution_count": null,
   "metadata": {},
   "outputs": [],
   "source": [
    "#把 business_id 和計算出的各家店在五大特質的情緒得分分別 append進去list當中，並且乘上 -1做校正\n",
    "for business in merge_df['id_targetword']:\n",
    "    business_id.append(business)\n",
    "    score = (re.get_group(business)['sentiment']*-1).sum()\n",
    "    final_output.append(score)"
   ]
  },
  {
   "cell_type": "code",
   "execution_count": null,
   "metadata": {},
   "outputs": [],
   "source": [
    "#list to dataframe\n",
    "df_business_id = pd.DataFrame(business_id, columns=['id_targetword'])\n",
    "df_final_output = pd.DataFrame(final_output, columns=['score'])"
   ]
  },
  {
   "cell_type": "code",
   "execution_count": null,
   "metadata": {},
   "outputs": [],
   "source": [
    "#concat\n",
    "df_output = pd.concat([df_business_id, df_final_output], axis = 1)\n",
    "#drop duplicates\n",
    "df_output = df_output.drop_duplicates()"
   ]
  },
  {
   "cell_type": "code",
   "execution_count": null,
   "metadata": {},
   "outputs": [],
   "source": [
    "#把 id_targetword中的 business_id 和 targetword分開\n",
    "df_1 = df_output['id_targetword'].str.split('*', expand = True)\n",
    "#rename\n",
    "df_1.columns = ['business_id', 'targetword']"
   ]
  },
  {
   "cell_type": "code",
   "execution_count": null,
   "metadata": {},
   "outputs": [],
   "source": [
    "#合併 df_1 以及情緒得分欄位\n",
    "df_output2 = pd.concat([df_1, df_output['score']],axis=1)"
   ]
  },
  {
   "cell_type": "code",
   "execution_count": null,
   "metadata": {},
   "outputs": [],
   "source": [
    "#series to list\n",
    "list_output_id = df_output2['business_id'].to_list()\n",
    "list_output_target = df_output2['targetword'].to_list()\n",
    "list_output_score = df_output2['score'].to_list()"
   ]
  },
  {
   "cell_type": "code",
   "execution_count": null,
   "metadata": {},
   "outputs": [],
   "source": [
    "#zip\n",
    "list_word_score = zip(list_output_target, list_output_score)\n",
    "df_output3 = list(zip(list_output_id, list_word_score))"
   ]
  },
  {
   "cell_type": "code",
   "execution_count": null,
   "metadata": {},
   "outputs": [],
   "source": [
    "#取出不重複的 business_id\n",
    "businessid_df = df_output2['business_id']\n",
    "noduplicate = businessid_df.drop_duplicates()"
   ]
  },
  {
   "cell_type": "markdown",
   "metadata": {},
   "source": [
    "## 分別把各家餐廳在五大特質的情緒得分做成dataframe"
   ]
  },
  {
   "cell_type": "code",
   "execution_count": null,
   "metadata": {},
   "outputs": [],
   "source": [
    "atmosphere = []\n",
    "atmosphere_word_list = ['atmosphere','happy','fun','friendly']\n",
    "for i in range(len(df_output3)):\n",
    "    if df_output3[i][1][0] in atmosphere_word_list:\n",
    "        atmosphere.append(int(df_output3[i][1][1]))\n",
    "    else:\n",
    "        atmosphere.append(0)\n",
    "\n",
    "df_atmosphere = pd.DataFrame(atmosphere)\n",
    "df_atmosphere.columns=['atmosphere']\n",
    "\n",
    "idx = businessid_df.index\n",
    "df_atmosphere.index = idx\n",
    "\n",
    "atmosphere_df = pd.concat([businessid_df, df_atmosphere], axis=1)"
   ]
  },
  {
   "cell_type": "code",
   "execution_count": null,
   "metadata": {},
   "outputs": [],
   "source": [
    "food = []\n",
    "food_word_list = ['lunch','delicious','menu','fresh','breakfast','drink','drinks','tasty','dinner','selection','meal','taste','flavor','dish','food']\n",
    "for i in range(len(df_output3)):\n",
    "    if df_output3[i][1][0] in food_word_list:\n",
    "        food.append(int(df_output3[i][1][1]))\n",
    "    else:\n",
    "        food.append(0)\n",
    "\n",
    "df_food = pd.DataFrame(food)\n",
    "df_food.columns=['food']\n",
    "\n",
    "df_food.index = idx\n",
    "\n",
    "food_df = pd.concat([businessid_df, df_food], axis=1)"
   ]
  },
  {
   "cell_type": "code",
   "execution_count": null,
   "metadata": {},
   "outputs": [],
   "source": [
    "service = []\n",
    "\n",
    "service_word_list = ['order','ordered','staff','service','wait','server','servered','quality']\n",
    "for i in range(len(df_output3)):\n",
    "    if df_output3[i][1][0] in service_word_list:\n",
    "        service.append(int(df_output3[i][1][1]))\n",
    "    else:\n",
    "        service.append(0)\n",
    "\n",
    "df_service = pd.DataFrame(service)\n",
    "df_service.columns=['service']\n",
    "\n",
    "df_service.index = idx\n",
    "\n",
    "service_df = pd.concat([businessid_df, df_service], axis=1)"
   ]
  },
  {
   "cell_type": "code",
   "execution_count": null,
   "metadata": {},
   "outputs": [],
   "source": [
    "price = []\n",
    "\n",
    "price_word_list = ['price','prices']\n",
    "for i in range(len(df_output3)):\n",
    "    if df_output3[i][1][0] in price_word_list:\n",
    "        price.append(int(df_output3[i][1][1]))\n",
    "    else:\n",
    "        price.append(0)\n",
    "\n",
    "df_price = pd.DataFrame(price)\n",
    "df_price.columns=['price']\n",
    "\n",
    "df_price.index = idx\n",
    "\n",
    "price_df = pd.concat([businessid_df, df_price], axis=1)"
   ]
  },
  {
   "cell_type": "code",
   "execution_count": null,
   "metadata": {},
   "outputs": [],
   "source": [
    "place = []\n",
    "\n",
    "place_word_list = ['place','places','location','area']\n",
    "for i in range(len(df_output3)):\n",
    "    if df_output3[i][1][0] in place_word_list:\n",
    "        place.append(int(df_output3[i][1][1]))\n",
    "    else:\n",
    "        place.append(0)\n",
    "\n",
    "df_place = pd.DataFrame(place)\n",
    "df_place.columns=['place']\n",
    "\n",
    "df_place.index = idx\n",
    "\n",
    "place_df = pd.concat([businessid_df, df_place], axis=1)"
   ]
  },
  {
   "cell_type": "code",
   "execution_count": null,
   "metadata": {},
   "outputs": [],
   "source": [
    "#把這五大特質合併在一起\n",
    "final = pd.concat([atmosphere_df, food_df['food'], service_df['service'], price_df['price'], place_df['place']], axis=1)"
   ]
  },
  {
   "cell_type": "code",
   "execution_count": null,
   "metadata": {},
   "outputs": [],
   "source": [
    "#group by with business_id\n",
    "fi = final.groupby('business_id')\n",
    "#create a new dict\n",
    "final_output = {}\n",
    "for i in final['business_id']:\n",
    "    a_score = list(fi.get_group(i).sum())[1:]\n",
    "    final_output.update({i:a_score})\n",
    "\n",
    "#test\n",
    "#fi.get_group('9yKzy9PApeiPPOUJEtnvkg').sum() "
   ]
  },
  {
   "cell_type": "code",
   "execution_count": null,
   "metadata": {},
   "outputs": [],
   "source": [
    "#dict to dataframe\n",
    "final_T = pd.DataFrame.from_dict(final_output, orient='index', columns=['atmosphere','food','service','price','place'])"
   ]
  },
  {
   "cell_type": "code",
   "execution_count": null,
   "metadata": {},
   "outputs": [],
   "source": [
    "#series to dataframe\n",
    "noduplicate = pd.DataFrame(noduplicate, columns=['business_id']) "
   ]
  },
  {
   "cell_type": "code",
   "execution_count": null,
   "metadata": {},
   "outputs": [],
   "source": [
    "#concat\n",
    "id2x = noduplicate.index\n",
    "final_T.index = id2x\n",
    "final_score = pd.concat([noduplicate,final_T],axis = 1)"
   ]
  },
  {
   "cell_type": "code",
   "execution_count": null,
   "metadata": {},
   "outputs": [],
   "source": [
    "#read total_id.csv\n",
    "total_id = pd.read_csv('total_id.csv',encoding='ISO-8859-1')\n",
    "total_business_id = total_id['business_id']"
   ]
  },
  {
   "cell_type": "code",
   "execution_count": null,
   "metadata": {},
   "outputs": [],
   "source": [
    "#merge and fillna with 0\n",
    "final_neg = pd.merge(total_business_id, final_score, how='outer')\n",
    "final_neg = final_neg.fillna(0)\n",
    "#final_neg"
   ]
  },
  {
   "cell_type": "code",
   "execution_count": null,
   "metadata": {},
   "outputs": [],
   "source": [
    "#合併 final_all跟 final_neg\n",
    "final_all_score = final_all.iloc[:,0:] + final_neg.iloc[:,0:]\n",
    "#drop_duplicates and dropna\n",
    "final_all_score = final_all_score.drop_duplicates().dropna()"
   ]
  },
  {
   "cell_type": "code",
   "execution_count": null,
   "metadata": {},
   "outputs": [],
   "source": [
    "#算出五大特質的平均分數\n",
    "final_all_score['overall'] = (final_all_score['atmosphere'] + final_all_score['food'] + \n",
    "                              final_all_score['service'] + final_all_score['price'] + final_all_score['place'])/5\n",
    "final_all_score.dropna()"
   ]
  },
  {
   "cell_type": "code",
   "execution_count": null,
   "metadata": {},
   "outputs": [],
   "source": [
    "#export\n",
    "final_all_score.to_csv('final.csv', encoding='utf-8')"
   ]
  },
  {
   "cell_type": "code",
   "execution_count": null,
   "metadata": {},
   "outputs": [],
   "source": []
  }
 ],
 "metadata": {
  "kernelspec": {
   "display_name": "Python 3",
   "language": "python",
   "name": "python3"
  },
  "language_info": {
   "codemirror_mode": {
    "name": "ipython",
    "version": 3
   },
   "file_extension": ".py",
   "mimetype": "text/x-python",
   "name": "python",
   "nbconvert_exporter": "python",
   "pygments_lexer": "ipython3",
   "version": "3.7.3"
  }
 },
 "nbformat": 4,
 "nbformat_minor": 2
}
