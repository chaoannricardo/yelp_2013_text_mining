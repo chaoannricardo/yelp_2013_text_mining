{
 "cells": [
  {
   "cell_type": "markdown",
   "metadata": {},
   "source": [
    "# 透過目標字找到相關聯的關聯詞"
   ]
  },
  {
   "cell_type": "markdown",
   "metadata": {},
   "source": [
    "## amod_word"
   ]
  },
  {
   "cell_type": "code",
   "execution_count": null,
   "metadata": {},
   "outputs": [],
   "source": [
    "from stanfordcorenlp import StanfordCoreNLP\n",
    "from nltk.tree import Tree\n",
    "import json\n",
    "import pandas as pd\n",
    "import re\n",
    "import csv\n"
   ]
  },
  {
   "cell_type": "code",
   "execution_count": null,
   "metadata": {},
   "outputs": [],
   "source": [
    "#read data(review)\n",
    "review_2013 = pd.read_csv(\"review_2013.csv\", encoding = \"Iso-8859-1\")\n",
    "print(review_2013.shape)"
   ]
  },
  {
   "cell_type": "code",
   "execution_count": null,
   "metadata": {},
   "outputs": [],
   "source": [
    "#取出text和business_id欄位\n",
    "review_text = review_2013['text']\n",
    "review_businessid = review_2013['business_id']"
   ]
  },
  {
   "cell_type": "code",
   "execution_count": null,
   "metadata": {},
   "outputs": [],
   "source": [
    "#load nlp \n",
    "nlp = StanfordCoreNLP('stanford-corenlp-full-2018-10-05')"
   ]
  },
  {
   "cell_type": "code",
   "execution_count": null,
   "metadata": {},
   "outputs": [],
   "source": [
    "#find all business_id and export to total_id.csv\n",
    "total_id = tip_df_businessid.iloc[0:]\n",
    "total_id = pd.DataFrame(total_id)\n",
    "total_id.to_csv('total_id.csv', encoding='utf-8')"
   ]
  },
  {
   "cell_type": "code",
   "execution_count": null,
   "metadata": {},
   "outputs": [],
   "source": [
    "#利用 token_list中的字去找出 dependency_parse_list中的數字為哪個字\n",
    "def dependency_parse_list_new_making(dpl,dplnew):\n",
    "    for tup in dpl:\n",
    "        tup_to_list = list(tup)\n",
    "        tup_to_list[1] = token_list[tup_to_list[1] - 1]\n",
    "        tup_to_list[2] = token_list[tup_to_list[2] - 1]\n",
    "        #append the new tupple to dplnew\n",
    "        dplnew.append(tup_to_list)\n",
    "    return dplnew"
   ]
  },
  {
   "cell_type": "code",
   "execution_count": null,
   "metadata": {},
   "outputs": [],
   "source": [
    "#create a new dict\n",
    "b_id_dict = {}\n",
    "\n",
    "for i in range(len(review_text)):\n",
    "    review = review_text[i]\n",
    "    business_id = review_businessid[i]\n",
    "    # use ! or ? or . to split sentence\n",
    "    split_sentence = re.split('!|\\?|\\.', review)\n",
    "    for sentence in split_sentence:\n",
    "        # tokenize and dependency_parse\n",
    "        token_list = nlp.word_tokenize(sentence)\n",
    "        dependency_parse_list = nlp.dependency_parse(sentence)\n",
    "        # create new list\n",
    "        dependency_parse_list_new = []\n",
    "        dependency_parse_list_new = dependency_parse_list_new_making(dependency_parse_list, dependency_parse_list_new)\n",
    "        # 如果business_id沒有在b_id_dict中，加進去(作為key)。並且根據business_id加入對應的value \n",
    "        if business_id not in b_id_dict.keys():\n",
    "            b_id_dict[business_id] = []\n",
    "            for lst in dependency_parse_list_new:\n",
    "                b_id_dict[business_id].append(lst)\n",
    "        else:\n",
    "            for lst in dependency_parse_list_new:\n",
    "                b_id_dict[business_id].append(lst)"
   ]
  },
  {
   "cell_type": "code",
   "execution_count": null,
   "metadata": {},
   "outputs": [],
   "source": [
    "#找到與target_word_list相關聯的關聯詞(amod)，做一個只有關聯詞的list\n",
    "only_relation = []\n",
    "for key, value  in b_id_dict.items():\n",
    "    target_word_list = ['atmosphere','happy','fun','friendly','lunch','delicious','menu','fresh','breakfast','drink','drinks','tasty','dinner','selection','meal','taste','flavor','dish','food','order','ordered','staff','service','wait','server','servered','quality','price','prices','place','places','location','area']\n",
    "    for targetword in target_word_list:\n",
    "        for i in range(len(value)):\n",
    "            if value[i][0] == 'amod' and value[i][1] == targetword:\n",
    "                only_relation.append(value[i][2])\n",
    "                #print(key, value[i])"
   ]
  },
  {
   "cell_type": "code",
   "execution_count": null,
   "metadata": {},
   "outputs": [],
   "source": [
    "#list to dataframe, and export to csv\n",
    "#drop duplicates\n",
    "only_relation_df = pd.DataFrame(only_relation, columns = ['relationword']).drop_duplicates()\n",
    "only_relation_df.to_csv('only_relaitonword.csv', encoding = 'utf-8', index = False)"
   ]
  },
  {
   "cell_type": "code",
   "execution_count": null,
   "metadata": {},
   "outputs": [],
   "source": [
    "# 做一個有business_id、目標字和關聯詞的表\n",
    "relation_key = []\n",
    "relation_targetword = []\n",
    "relation_word = []\n",
    "for key, value in b_id_dict.items():\n",
    "    target_word_list = ['atmosphere','happy','fun','friendly','lunch','delicious','menu','fresh','breakfast','drink','drinks','tasty','dinner','selection','meal','taste','flavor','dish','food','order','ordered','staff','service','wait','server','servered','quality','price','prices','place','places','location','area']\n",
    "    for targetword in target_word_list:\n",
    "        for i in range(len(value)):\n",
    "            if value[i][0] == 'amod' and value[i][1] == targetword:\n",
    "                relation_key.append(key)\n",
    "                relation_targetword.append(value[i][1])\n",
    "                relation_word.append(value[i][2])\n"
   ]
  },
  {
   "cell_type": "code",
   "execution_count": null,
   "metadata": {},
   "outputs": [],
   "source": [
    "#relation_key(list) to dataframe\n",
    "df_relation_key = pd.DataFrame(relation_key, columns=['business_id'])"
   ]
  },
  {
   "cell_type": "code",
   "execution_count": null,
   "metadata": {},
   "outputs": [],
   "source": [
    "#relaiton_targetword(list) to dataframe\n",
    "df_relation_targetword = pd.DataFrame(relation_targetword, columns=['targetword'])"
   ]
  },
  {
   "cell_type": "code",
   "execution_count": null,
   "metadata": {},
   "outputs": [],
   "source": [
    "#relation_word(list) to dataframe\n",
    "df_relation_word = pd.DataFrame(relation_word, columns=['relationword'])"
   ]
  },
  {
   "cell_type": "code",
   "execution_count": null,
   "metadata": {},
   "outputs": [],
   "source": [
    "#合併\n",
    "relation_df = pd.concat([df_relation_key, df_relation_targetword, df_relation_word], axis = 1)"
   ]
  },
  {
   "cell_type": "code",
   "execution_count": null,
   "metadata": {},
   "outputs": [],
   "source": [
    "#export to csv\n",
    "relation_df.to_csv('relation_word.csv', encoding='utf-8')"
   ]
  },
  {
   "cell_type": "markdown",
   "metadata": {},
   "source": [
    "---"
   ]
  },
  {
   "cell_type": "markdown",
   "metadata": {},
   "source": [
    "## neg_word"
   ]
  },
  {
   "cell_type": "markdown",
   "metadata": {},
   "source": [
    "### neg_word 對應到的relationword與amod相同"
   ]
  },
  {
   "cell_type": "code",
   "execution_count": null,
   "metadata": {},
   "outputs": [],
   "source": [
    "#找到與target_word_list相關聯的關聯詞(neg)\n",
    "amod_target = []\n",
    "amod_relation = []\n",
    "\n",
    "for key,value in b_id_dict.items():\n",
    "    target_word_list=['atmosphere','happy','fun','friendly','lunch','delicious','menu','fresh','breakfast','drink','drinks','tasty','dinner','selection','meal','taste','flavor','dish','food','order','ordered','staff','service','wait','server','servered','quality','price','prices','place','places','location','area']\n",
    "    for targetword in target_word_list:\n",
    "        for i in range(len(value)):\n",
    "            #if value[i][0] == 'neg'and (value[i][1]== targetword or value[i][1]== targetword):\n",
    "            if value[i][0] == 'amod'and value[i][1] == targetword:\n",
    "                amod_target.append(value[i][1])\n",
    "                amod_relation.append(value[i][2])\n",
    "                #print(key, value[i])\n",
    "len(amod_target)"
   ]
  },
  {
   "cell_type": "code",
   "execution_count": null,
   "metadata": {},
   "outputs": [],
   "source": [
    "# list to dataframe\n",
    "df_amod_target = pd.DataFrame(amod_target, columns=['targetword'])\n",
    "df_amod_relation = pd.DataFrame(amod_relation, columns=['relationword'])\n",
    "#concat\n",
    "df_amod = pd.concat([df_amod_target, df_amod_relation], axis=1)"
   ]
  },
  {
   "cell_type": "code",
   "execution_count": null,
   "metadata": {},
   "outputs": [],
   "source": [
    "#找出不重複的關聯詞\n",
    "amod_list = list(set(amod_relation))"
   ]
  },
  {
   "cell_type": "code",
   "execution_count": null,
   "metadata": {},
   "outputs": [],
   "source": [
    "#把amod的關聯詞當作neg的目標字\n",
    "amod_neg_target = []\n",
    "amod_neg_relation = []\n",
    "for key,value in b_id_dict.items():\n",
    "    for targetword in amod_list:\n",
    "        for i in range(len(value)):\n",
    "            if value[i][0] == 'neg'and value[i][1] == targetword:\n",
    "                amod_neg_target.append(value[i][1])\n",
    "                amod_neg_relation.append(value[i][2])\n",
    "                print(key, value[i])"
   ]
  },
  {
   "cell_type": "code",
   "execution_count": null,
   "metadata": {},
   "outputs": [],
   "source": [
    "#list to dataframe\n",
    "amod_neg_target_df = pd.DataFrame(amod_neg_target, columns=['relationword'])\n",
    "amod_neg_relation_df =  pd.DataFrame(amod_neg_relation, columns=['relationword_neg'])\n",
    "#repalce and concat\n",
    "amod_neg_relation_df = amod_neg_relation_df.replace(\"n't\",\"not\")\n",
    "df_amod_neg = pd.concat([amod_neg_target_df, amod_neg_relation_df], axis=1)\n",
    "len(amod_neg_relation_df)"
   ]
  },
  {
   "cell_type": "code",
   "execution_count": null,
   "metadata": {},
   "outputs": [],
   "source": [
    "#做一個有business_id、目標字和關聯詞的表\n",
    "amod_relation_key = []\n",
    "amod_relation_targetword = []\n",
    "amod_relation_word = []\n",
    "for key, value in b_id_dict.items():\n",
    "    target_word_list=['atmosphere','happy','fun','friendly','lunch','delicious','menu','fresh','breakfast','drink','drinks','tasty','dinner','selection','meal','taste','flavor','dish','food','order','ordered','staff','service','wait','server','servered','quality','price','prices','place','places','location','area']\n",
    "    for targetword in target_word_list: \n",
    "        for i in range(len(value)):\n",
    "            if value[i][0] == 'amod' and value[i][1] == targetword:\n",
    "                amod_relation_key.append(key)\n",
    "                amod_relation_targetword.append(value[i][1])\n",
    "                amod_relation_word.append(value[i][2])\n",
    "                print(key, value)"
   ]
  },
  {
   "cell_type": "code",
   "execution_count": null,
   "metadata": {},
   "outputs": [],
   "source": [
    "#把amod的關聯詞當作neg的目標字\n",
    "relation_key = []\n",
    "relation_targetword = []\n",
    "relation_word = []\n",
    "for key, value in b_id_dict.items():\n",
    "    for targetword in amod_list:\n",
    "        for i in range(len(value)):\n",
    "            if value[i][0] == 'neg' and value[i][1] == targetword:\n",
    "                relation_key.append(key)\n",
    "                relation_targetword.append(value[i][1])\n",
    "                relation_word.append(value[i][2])\n",
    "                print(key,value[i])"
   ]
  },
  {
   "cell_type": "code",
   "execution_count": null,
   "metadata": {},
   "outputs": [],
   "source": [
    "#list to dataframe\n",
    "df_relation_key = pd.DataFrame(relation_key, columns=['business_id'])\n",
    "df_relation_targetword = pd.DataFrame(relation_targetword, columns=['targetword'])\n",
    "df_relation_word = pd.DataFrame(relation_word, columns=['relationword'])"
   ]
  },
  {
   "cell_type": "code",
   "execution_count": null,
   "metadata": {},
   "outputs": [],
   "source": [
    "#concat and replace\n",
    "relation_df = pd.concat([df_relation_key, df_relation_targetword, df_relation_word], axis = 1)\n",
    "relation_df = relation_df.replace(\"n't\", \"not\")\n"
   ]
  },
  {
   "cell_type": "code",
   "execution_count": null,
   "metadata": {},
   "outputs": [],
   "source": [
    "#export to csv\n",
    "relation_df.to_csv('relation_neg_word.csv', encoding='utf-8')"
   ]
  },
  {
   "cell_type": "code",
   "execution_count": null,
   "metadata": {},
   "outputs": [],
   "source": [
    "nlp.close()"
   ]
  },
  {
   "cell_type": "code",
   "execution_count": null,
   "metadata": {},
   "outputs": [],
   "source": []
  }
 ],
 "metadata": {
  "kernelspec": {
   "display_name": "Python 3",
   "language": "python",
   "name": "python3"
  },
  "language_info": {
   "codemirror_mode": {
    "name": "ipython",
    "version": 3
   },
   "file_extension": ".py",
   "mimetype": "text/x-python",
   "name": "python",
   "nbconvert_exporter": "python",
   "pygments_lexer": "ipython3",
   "version": "3.7.3"
  }
 },
 "nbformat": 4,
 "nbformat_minor": 2
}
